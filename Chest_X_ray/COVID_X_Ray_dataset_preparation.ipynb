{
  "nbformat": 4,
  "nbformat_minor": 0,
  "metadata": {
    "colab": {
      "name": "COVID_X_Ray_d.ipynb",
      "provenance": [],
      "machine_shape": "hm"
    },
    "kernelspec": {
      "name": "python3",
      "display_name": "Python 3"
    },
    "language_info": {
      "name": "python"
    }
  },
  "cells": [
    {
      "cell_type": "markdown",
      "metadata": {
        "id": "b3uWtddrW3R1"
      },
      "source": [
        "## Mounting"
      ]
    },
    {
      "cell_type": "code",
      "metadata": {
        "colab": {
          "base_uri": "https://localhost:8080/"
        },
        "id": "Yva_Aj4P5I13",
        "outputId": "b446e414-41ab-41bf-a835-ec1c72b04b98"
      },
      "source": [
        "from google.colab import drive\n",
        "drive.mount('/content/drive')"
      ],
      "execution_count": 1,
      "outputs": [
        {
          "output_type": "stream",
          "text": [
            "Mounted at /content/drive\n"
          ],
          "name": "stdout"
        }
      ]
    },
    {
      "cell_type": "markdown",
      "metadata": {
        "id": "T5exGPIaW6DU"
      },
      "source": [
        "### Creating Dataset"
      ]
    },
    {
      "cell_type": "code",
      "metadata": {
        "id": "-q9I2wjmTNnV"
      },
      "source": [
        "FLDR=\"drive/MyDrive/covid_19_images/\""
      ],
      "execution_count": 2,
      "outputs": []
    },
    {
      "cell_type": "code",
      "metadata": {
        "id": "GI1E1Gik5yKm"
      },
      "source": [
        "import os\n",
        "import cv2\n",
        "import shutil\n",
        "import pandas as pd"
      ],
      "execution_count": 3,
      "outputs": []
    },
    {
      "cell_type": "code",
      "metadata": {
        "id": "MOXEFQvN51Ly"
      },
      "source": [
        "fldrs=os.listdir(FLDR)"
      ],
      "execution_count": 4,
      "outputs": []
    },
    {
      "cell_type": "code",
      "metadata": {
        "colab": {
          "base_uri": "https://localhost:8080/"
        },
        "id": "8v6Jv6-z58TB",
        "outputId": "45993361-c413-4a8e-f4a2-599a66b77ddd"
      },
      "source": [
        "fldrs"
      ],
      "execution_count": 5,
      "outputs": [
        {
          "output_type": "execute_result",
          "data": {
            "text/plain": [
              "['Unpro_2',\n",
              " 'Source_1',\n",
              " 'Unpro_1',\n",
              " 'Source_2',\n",
              " 'Processed_file',\n",
              " 'Details_1.csv']"
            ]
          },
          "metadata": {
            "tags": []
          },
          "execution_count": 5
        }
      ]
    },
    {
      "cell_type": "code",
      "metadata": {
        "id": "bWOLvfS8P4Wo"
      },
      "source": [
        "fldrs.remove('Unpro_2')\n",
        "fldrs.remove('Source_1')"
      ],
      "execution_count": 6,
      "outputs": []
    },
    {
      "cell_type": "code",
      "metadata": {
        "colab": {
          "base_uri": "https://localhost:8080/"
        },
        "id": "8mDXfm5zRSwj",
        "outputId": "621ed8d4-0a94-43a3-86ee-dd708f28db26"
      },
      "source": [
        "fldrs"
      ],
      "execution_count": 7,
      "outputs": [
        {
          "output_type": "execute_result",
          "data": {
            "text/plain": [
              "['Unpro_1', 'Source_2', 'Processed_file', 'Details_1.csv']"
            ]
          },
          "metadata": {
            "tags": []
          },
          "execution_count": 7
        }
      ]
    },
    {
      "cell_type": "code",
      "metadata": {
        "id": "vIOdBp7w8UiE"
      },
      "source": [
        "os.mkdir(FLDR+'Processed_file_2')"
      ],
      "execution_count": 8,
      "outputs": []
    },
    {
      "cell_type": "code",
      "metadata": {
        "id": "BHZUPlTv59bF"
      },
      "source": [
        "dest_fldr=FLDR+\"Processed_file_2\"\n",
        "file_a=[]\n",
        "label=[]\n",
        "for f in fldrs:\n",
        "  if 'Source' in f:\n",
        "    int_f=os.listdir(FLDR+f)\n",
        "    for f_2  in int_f:\n",
        "      files=os.listdir(FLDR+f+'/'+f_2)\n",
        "      for file in files:\n",
        "        fle=FLDR+f+'/'+f_2+'/'+file\n",
        "        print(fle)\n",
        "        shutil.copy(fle,dest_fldr+'/')\n",
        "        file_a.append(file)\n",
        "        if f_2=='Covid-19':\n",
        "          label.append(1)\n",
        "        else:\n",
        "          label.append(0)\n",
        "  else:\n",
        "    fldr_t=\"drive/MyDrive/covid_19_images/\"+f+\"/images/\"\n",
        "    print('drive/MyDrive/covid_19_images/'+f+'/metadata.csv')\n",
        "\n",
        "    df=pd.read_csv('drive/MyDrive/covid_19_images/'+f+'/metadata.csv',encoding='unicode_escape')\n",
        "    i=0\n",
        "    while i<len(df):\n",
        "      if 'imagename' in df.columns:\n",
        "        file_n=fldr_t+df.iloc[i]['imagename']\n",
        "        file_a.append(df.iloc[i]['imagename'])\n",
        "        shutil.copy(file_n,dest_fldr+'/')\n",
        "        if df.iloc[i]['finding']=='COVID-19':\n",
        "          label.append(1)\n",
        "        else:\n",
        "          label.append(0)\n",
        "      else:\n",
        "        try:\n",
        "          file_n=fldr_t+df.iloc[i]['patientid']+'.jpg'\n",
        "          file_a.append(df.iloc[i]['patientid']+'.jpg')\n",
        "          shutil.copy(file_n,dest_fldr+'/')\n",
        "          if df.iloc[i]['finding']=='COVID-19':\n",
        "            label.append(1)\n",
        "          else:\n",
        "            label.append(0)\n",
        "        except:\n",
        "          pass\n",
        "      i+=1\n",
        "  print(f+\" done\")\n",
        "\n",
        "df=pd.DataFrame(list(zip(file_a,label)),columns=['Files','Labels'])\n",
        "\n",
        "\n",
        "\n",
        "\n",
        "\n",
        "\n",
        "\n",
        "      \n",
        "        \n",
        "\n"
      ],
      "execution_count": null,
      "outputs": []
    },
    {
      "cell_type": "code",
      "metadata": {
        "colab": {
          "base_uri": "https://localhost:8080/"
        },
        "id": "UA0ls7c_eSyT",
        "outputId": "ca07a191-c99d-4a6d-b009-e1436240cc26"
      },
      "source": [
        "len(file_a)"
      ],
      "execution_count": 11,
      "outputs": [
        {
          "output_type": "execute_result",
          "data": {
            "text/plain": [
              "13887"
            ]
          },
          "metadata": {
            "tags": []
          },
          "execution_count": 11
        }
      ]
    },
    {
      "cell_type": "code",
      "metadata": {
        "id": "WG7R1Zm0GN_z"
      },
      "source": [
        "df=pd.DataFrame(list(zip(file_a,label)),columns=['Files','Labels'])"
      ],
      "execution_count": 12,
      "outputs": []
    },
    {
      "cell_type": "code",
      "metadata": {
        "id": "-ftQ4W7RPVSr"
      },
      "source": [
        "df.to_csv(FLDR+'Details_2.csv',index=False)"
      ],
      "execution_count": 13,
      "outputs": []
    }
  ]
}